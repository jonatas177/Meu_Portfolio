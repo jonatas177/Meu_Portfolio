{
 "cells": [
  {
   "cell_type": "markdown",
   "id": "46536cab",
   "metadata": {},
   "source": [
    "Neste projeto analisaremos o impacto de gadgets no desempenho dos alunos"
   ]
  },
  {
   "cell_type": "code",
   "execution_count": 23,
   "id": "cf289831",
   "metadata": {},
   "outputs": [],
   "source": [
    "#Importando a biblioteca Pandas\n",
    "import pandas as pd\n",
    "import matplotlib.pyplot as plt"
   ]
  },
  {
   "cell_type": "code",
   "execution_count": 2,
   "id": "460be8e7",
   "metadata": {},
   "outputs": [],
   "source": [
    "#Leitura dos arquivos\n",
    "df1 = pd.read_excel('Inspecting-a-dataset-A-guided-hands-on-tour_SalesByDay_POR.xlsx')\n",
    "df2 = pd.read_excel('Inspecting-a-dataset-A-guided-hands-on-tour_SalesByFlavor_POR.xlsx')"
   ]
  },
  {
   "cell_type": "code",
   "execution_count": 3,
   "id": "f7f16a7d",
   "metadata": {},
   "outputs": [
    {
     "name": "stdout",
     "output_type": "stream",
     "text": [
      "          data    vendas\n",
      "0   2019-01-01   59.9622\n",
      "1   2019-01-02   67.0605\n",
      "2   2019-01-03   74.2350\n",
      "3   2019-01-04   78.1120\n",
      "4   2019-01-05   84.7636\n",
      "..         ...       ...\n",
      "360 2019-12-27  120.9601\n",
      "361 2019-12-28  143.6813\n",
      "362 2019-12-29  155.2061\n",
      "363 2019-12-30  169.2145\n",
      "364 2019-12-31  165.2011\n",
      "\n",
      "[365 rows x 2 columns]\n"
     ]
    }
   ],
   "source": [
    "#Visualizando tabela de Vendas X Dia\n",
    "print(df1)"
   ]
  },
  {
   "cell_type": "code",
   "execution_count": 4,
   "id": "bbe51625",
   "metadata": {},
   "outputs": [
    {
     "name": "stdout",
     "output_type": "stream",
     "text": [
      "     semana  unidades vendidas      sabor\n",
      "0         1                  6  chocolate\n",
      "1         1                 15      limão\n",
      "2         1                 12    morango\n",
      "3         1                  6   baunilha\n",
      "4         2                 16  chocolate\n",
      "..      ...                ...        ...\n",
      "203      51                 20   baunilha\n",
      "204      52                 10  chocolate\n",
      "205      52                  9      limão\n",
      "206      52                  1    morango\n",
      "207      52                 18   baunilha\n",
      "\n",
      "[208 rows x 3 columns]\n"
     ]
    }
   ],
   "source": [
    "#Visualizando tabela de Vendas X Sabor\n",
    "print(df2)"
   ]
  },
  {
   "cell_type": "code",
   "execution_count": 5,
   "id": "8a865bef",
   "metadata": {},
   "outputs": [],
   "source": [
    "#Juntando os DataFrames\n",
    "df = pd.concat([df1,df2], axis=1, ignore_index=False)"
   ]
  },
  {
   "cell_type": "code",
   "execution_count": 6,
   "id": "dc467b54",
   "metadata": {},
   "outputs": [
    {
     "data": {
      "text/plain": [
       "data                 datetime64[ns]\n",
       "vendas                      float64\n",
       "semana                      float64\n",
       "unidades vendidas           float64\n",
       "sabor                        object\n",
       "dtype: object"
      ]
     },
     "execution_count": 6,
     "metadata": {},
     "output_type": "execute_result"
    }
   ],
   "source": [
    "#Visualizando o tipo de dados das colunas\n",
    "df.dtypes"
   ]
  },
  {
   "cell_type": "code",
   "execution_count": 7,
   "id": "c3489f9e",
   "metadata": {},
   "outputs": [],
   "source": [
    "#Alterando as colunas 'data' e 'semana' para 'object'\n",
    "df['semana'] = df['semana'].astype('object')"
   ]
  },
  {
   "cell_type": "code",
   "execution_count": 8,
   "id": "4874662a",
   "metadata": {},
   "outputs": [],
   "source": [
    "#Eliminando dados nulos\n",
    "df.dropna(inplace=True)"
   ]
  },
  {
   "cell_type": "code",
   "execution_count": 10,
   "id": "49f95209",
   "metadata": {},
   "outputs": [],
   "source": [
    "#Vendas de sorvete no mês de março de 2019\n",
    "vendas_marco_2019 = df.loc[(df['data'].dt.year == 2019 ) & (df['data'].dt.month == 3)]"
   ]
  },
  {
   "cell_type": "code",
   "execution_count": 11,
   "id": "118d2e42",
   "metadata": {},
   "outputs": [
    {
     "data": {
      "text/html": [
       "<div>\n",
       "<style scoped>\n",
       "    .dataframe tbody tr th:only-of-type {\n",
       "        vertical-align: middle;\n",
       "    }\n",
       "\n",
       "    .dataframe tbody tr th {\n",
       "        vertical-align: top;\n",
       "    }\n",
       "\n",
       "    .dataframe thead th {\n",
       "        text-align: right;\n",
       "    }\n",
       "</style>\n",
       "<table border=\"1\" class=\"dataframe\">\n",
       "  <thead>\n",
       "    <tr style=\"text-align: right;\">\n",
       "      <th></th>\n",
       "      <th>data</th>\n",
       "      <th>vendas</th>\n",
       "      <th>semana</th>\n",
       "      <th>unidades vendidas</th>\n",
       "      <th>sabor</th>\n",
       "    </tr>\n",
       "  </thead>\n",
       "  <tbody>\n",
       "    <tr>\n",
       "      <th>59</th>\n",
       "      <td>2019-03-01</td>\n",
       "      <td>62.4830</td>\n",
       "      <td>15.0</td>\n",
       "      <td>12.0</td>\n",
       "      <td>baunilha</td>\n",
       "    </tr>\n",
       "    <tr>\n",
       "      <th>60</th>\n",
       "      <td>2019-03-02</td>\n",
       "      <td>63.7684</td>\n",
       "      <td>16.0</td>\n",
       "      <td>2.0</td>\n",
       "      <td>chocolate</td>\n",
       "    </tr>\n",
       "    <tr>\n",
       "      <th>61</th>\n",
       "      <td>2019-03-03</td>\n",
       "      <td>75.0613</td>\n",
       "      <td>16.0</td>\n",
       "      <td>13.0</td>\n",
       "      <td>limão</td>\n",
       "    </tr>\n",
       "    <tr>\n",
       "      <th>62</th>\n",
       "      <td>2019-03-04</td>\n",
       "      <td>90.0211</td>\n",
       "      <td>16.0</td>\n",
       "      <td>17.0</td>\n",
       "      <td>morango</td>\n",
       "    </tr>\n",
       "    <tr>\n",
       "      <th>63</th>\n",
       "      <td>2019-03-05</td>\n",
       "      <td>92.6645</td>\n",
       "      <td>16.0</td>\n",
       "      <td>18.0</td>\n",
       "      <td>baunilha</td>\n",
       "    </tr>\n",
       "    <tr>\n",
       "      <th>64</th>\n",
       "      <td>2019-03-06</td>\n",
       "      <td>99.1200</td>\n",
       "      <td>17.0</td>\n",
       "      <td>5.0</td>\n",
       "      <td>chocolate</td>\n",
       "    </tr>\n",
       "    <tr>\n",
       "      <th>65</th>\n",
       "      <td>2019-03-07</td>\n",
       "      <td>114.7230</td>\n",
       "      <td>17.0</td>\n",
       "      <td>16.0</td>\n",
       "      <td>limão</td>\n",
       "    </tr>\n",
       "    <tr>\n",
       "      <th>66</th>\n",
       "      <td>2019-03-08</td>\n",
       "      <td>112.3297</td>\n",
       "      <td>17.0</td>\n",
       "      <td>2.0</td>\n",
       "      <td>morango</td>\n",
       "    </tr>\n",
       "    <tr>\n",
       "      <th>67</th>\n",
       "      <td>2019-03-09</td>\n",
       "      <td>106.4137</td>\n",
       "      <td>17.0</td>\n",
       "      <td>11.0</td>\n",
       "      <td>baunilha</td>\n",
       "    </tr>\n",
       "    <tr>\n",
       "      <th>68</th>\n",
       "      <td>2019-03-10</td>\n",
       "      <td>91.7217</td>\n",
       "      <td>18.0</td>\n",
       "      <td>1.0</td>\n",
       "      <td>chocolate</td>\n",
       "    </tr>\n",
       "    <tr>\n",
       "      <th>69</th>\n",
       "      <td>2019-03-11</td>\n",
       "      <td>76.0245</td>\n",
       "      <td>18.0</td>\n",
       "      <td>20.0</td>\n",
       "      <td>limão</td>\n",
       "    </tr>\n",
       "    <tr>\n",
       "      <th>70</th>\n",
       "      <td>2019-03-12</td>\n",
       "      <td>67.3937</td>\n",
       "      <td>18.0</td>\n",
       "      <td>14.0</td>\n",
       "      <td>morango</td>\n",
       "    </tr>\n",
       "    <tr>\n",
       "      <th>71</th>\n",
       "      <td>2019-03-13</td>\n",
       "      <td>61.4415</td>\n",
       "      <td>18.0</td>\n",
       "      <td>3.0</td>\n",
       "      <td>baunilha</td>\n",
       "    </tr>\n",
       "    <tr>\n",
       "      <th>72</th>\n",
       "      <td>2019-03-14</td>\n",
       "      <td>61.8880</td>\n",
       "      <td>19.0</td>\n",
       "      <td>2.0</td>\n",
       "      <td>chocolate</td>\n",
       "    </tr>\n",
       "    <tr>\n",
       "      <th>73</th>\n",
       "      <td>2019-03-15</td>\n",
       "      <td>72.8712</td>\n",
       "      <td>19.0</td>\n",
       "      <td>18.0</td>\n",
       "      <td>limão</td>\n",
       "    </tr>\n",
       "    <tr>\n",
       "      <th>74</th>\n",
       "      <td>2019-03-16</td>\n",
       "      <td>83.9315</td>\n",
       "      <td>19.0</td>\n",
       "      <td>16.0</td>\n",
       "      <td>morango</td>\n",
       "    </tr>\n",
       "    <tr>\n",
       "      <th>75</th>\n",
       "      <td>2019-03-17</td>\n",
       "      <td>89.0592</td>\n",
       "      <td>19.0</td>\n",
       "      <td>18.0</td>\n",
       "      <td>baunilha</td>\n",
       "    </tr>\n",
       "    <tr>\n",
       "      <th>76</th>\n",
       "      <td>2019-03-18</td>\n",
       "      <td>92.4522</td>\n",
       "      <td>20.0</td>\n",
       "      <td>11.0</td>\n",
       "      <td>chocolate</td>\n",
       "    </tr>\n",
       "    <tr>\n",
       "      <th>77</th>\n",
       "      <td>2019-03-19</td>\n",
       "      <td>111.3258</td>\n",
       "      <td>20.0</td>\n",
       "      <td>13.0</td>\n",
       "      <td>limão</td>\n",
       "    </tr>\n",
       "    <tr>\n",
       "      <th>78</th>\n",
       "      <td>2019-03-20</td>\n",
       "      <td>106.9251</td>\n",
       "      <td>20.0</td>\n",
       "      <td>9.0</td>\n",
       "      <td>morango</td>\n",
       "    </tr>\n",
       "    <tr>\n",
       "      <th>79</th>\n",
       "      <td>2019-03-21</td>\n",
       "      <td>103.6909</td>\n",
       "      <td>20.0</td>\n",
       "      <td>8.0</td>\n",
       "      <td>baunilha</td>\n",
       "    </tr>\n",
       "    <tr>\n",
       "      <th>80</th>\n",
       "      <td>2019-03-22</td>\n",
       "      <td>90.6197</td>\n",
       "      <td>21.0</td>\n",
       "      <td>6.0</td>\n",
       "      <td>chocolate</td>\n",
       "    </tr>\n",
       "    <tr>\n",
       "      <th>81</th>\n",
       "      <td>2019-03-23</td>\n",
       "      <td>79.1839</td>\n",
       "      <td>21.0</td>\n",
       "      <td>18.0</td>\n",
       "      <td>limão</td>\n",
       "    </tr>\n",
       "    <tr>\n",
       "      <th>82</th>\n",
       "      <td>2019-03-24</td>\n",
       "      <td>67.8849</td>\n",
       "      <td>21.0</td>\n",
       "      <td>1.0</td>\n",
       "      <td>morango</td>\n",
       "    </tr>\n",
       "    <tr>\n",
       "      <th>83</th>\n",
       "      <td>2019-03-25</td>\n",
       "      <td>62.4032</td>\n",
       "      <td>21.0</td>\n",
       "      <td>11.0</td>\n",
       "      <td>baunilha</td>\n",
       "    </tr>\n",
       "    <tr>\n",
       "      <th>84</th>\n",
       "      <td>2019-03-26</td>\n",
       "      <td>63.0121</td>\n",
       "      <td>22.0</td>\n",
       "      <td>3.0</td>\n",
       "      <td>chocolate</td>\n",
       "    </tr>\n",
       "    <tr>\n",
       "      <th>85</th>\n",
       "      <td>2019-03-27</td>\n",
       "      <td>73.9406</td>\n",
       "      <td>22.0</td>\n",
       "      <td>18.0</td>\n",
       "      <td>limão</td>\n",
       "    </tr>\n",
       "    <tr>\n",
       "      <th>86</th>\n",
       "      <td>2019-03-28</td>\n",
       "      <td>86.4275</td>\n",
       "      <td>22.0</td>\n",
       "      <td>13.0</td>\n",
       "      <td>morango</td>\n",
       "    </tr>\n",
       "    <tr>\n",
       "      <th>87</th>\n",
       "      <td>2019-03-29</td>\n",
       "      <td>91.2026</td>\n",
       "      <td>22.0</td>\n",
       "      <td>6.0</td>\n",
       "      <td>baunilha</td>\n",
       "    </tr>\n",
       "    <tr>\n",
       "      <th>88</th>\n",
       "      <td>2019-03-30</td>\n",
       "      <td>94.7007</td>\n",
       "      <td>23.0</td>\n",
       "      <td>15.0</td>\n",
       "      <td>chocolate</td>\n",
       "    </tr>\n",
       "    <tr>\n",
       "      <th>89</th>\n",
       "      <td>2019-03-31</td>\n",
       "      <td>110.1034</td>\n",
       "      <td>23.0</td>\n",
       "      <td>12.0</td>\n",
       "      <td>limão</td>\n",
       "    </tr>\n",
       "  </tbody>\n",
       "</table>\n",
       "</div>"
      ],
      "text/plain": [
       "         data    vendas semana  unidades vendidas      sabor\n",
       "59 2019-03-01   62.4830   15.0               12.0   baunilha\n",
       "60 2019-03-02   63.7684   16.0                2.0  chocolate\n",
       "61 2019-03-03   75.0613   16.0               13.0      limão\n",
       "62 2019-03-04   90.0211   16.0               17.0    morango\n",
       "63 2019-03-05   92.6645   16.0               18.0   baunilha\n",
       "64 2019-03-06   99.1200   17.0                5.0  chocolate\n",
       "65 2019-03-07  114.7230   17.0               16.0      limão\n",
       "66 2019-03-08  112.3297   17.0                2.0    morango\n",
       "67 2019-03-09  106.4137   17.0               11.0   baunilha\n",
       "68 2019-03-10   91.7217   18.0                1.0  chocolate\n",
       "69 2019-03-11   76.0245   18.0               20.0      limão\n",
       "70 2019-03-12   67.3937   18.0               14.0    morango\n",
       "71 2019-03-13   61.4415   18.0                3.0   baunilha\n",
       "72 2019-03-14   61.8880   19.0                2.0  chocolate\n",
       "73 2019-03-15   72.8712   19.0               18.0      limão\n",
       "74 2019-03-16   83.9315   19.0               16.0    morango\n",
       "75 2019-03-17   89.0592   19.0               18.0   baunilha\n",
       "76 2019-03-18   92.4522   20.0               11.0  chocolate\n",
       "77 2019-03-19  111.3258   20.0               13.0      limão\n",
       "78 2019-03-20  106.9251   20.0                9.0    morango\n",
       "79 2019-03-21  103.6909   20.0                8.0   baunilha\n",
       "80 2019-03-22   90.6197   21.0                6.0  chocolate\n",
       "81 2019-03-23   79.1839   21.0               18.0      limão\n",
       "82 2019-03-24   67.8849   21.0                1.0    morango\n",
       "83 2019-03-25   62.4032   21.0               11.0   baunilha\n",
       "84 2019-03-26   63.0121   22.0                3.0  chocolate\n",
       "85 2019-03-27   73.9406   22.0               18.0      limão\n",
       "86 2019-03-28   86.4275   22.0               13.0    morango\n",
       "87 2019-03-29   91.2026   22.0                6.0   baunilha\n",
       "88 2019-03-30   94.7007   23.0               15.0  chocolate\n",
       "89 2019-03-31  110.1034   23.0               12.0      limão"
      ]
     },
     "execution_count": 11,
     "metadata": {},
     "output_type": "execute_result"
    }
   ],
   "source": [
    "#Visualizando\n",
    "vendas_marco_2019"
   ]
  },
  {
   "cell_type": "code",
   "execution_count": 14,
   "id": "ae896c05",
   "metadata": {},
   "outputs": [
    {
     "data": {
      "text/plain": [
       "sabor\n",
       "baunilha      87.0\n",
       "chocolate     45.0\n",
       "limão        128.0\n",
       "morango       72.0\n",
       "Name: unidades vendidas, dtype: float64"
      ]
     },
     "execution_count": 14,
     "metadata": {},
     "output_type": "execute_result"
    }
   ],
   "source": [
    "#Qual sabor de sorvete mais vendeu no mês de março de 2019?\n",
    "vendas_marco_2019.groupby(df['sabor'])['unidades vendidas'].sum()"
   ]
  },
  {
   "cell_type": "code",
   "execution_count": 41,
   "id": "83660294",
   "metadata": {},
   "outputs": [
    {
     "data": {
      "image/png": "[encoded data removed]",
      "text/plain": [
       "<Figure size 640x480 with 1 Axes>"
      ]
     },
     "metadata": {},
     "output_type": "display_data"
    }
   ],
   "source": [
    "#Gráfico de Barras das vendas de sorvete em mar/2019\n",
    "vendas_marco_2019.groupby(df['sabor'])['unidades vendidas'].sum().plot.bar(title = 'Sorvete mais vendido de Março/2019', color = 'green')\n",
    "plt.xlabel(\"Sabores\")\n",
    "plt.ylabel(\"Quantidade\")\n",
    "plt.xticks(rotation=0)\n",
    "plt.style.use(\"ggplot\")\n",
    "plt.savefig(\"sorvete_mais_vendido_mar2019.jpg\") #Salvando imagem de gráfico de barras gerado."
   ]
  },
  {
   "cell_type": "code",
   "execution_count": 40,
   "id": "f12a4846",
   "metadata": {},
   "outputs": [
    {
     "data": {
      "text/plain": [
       "<Figure size 640x480 with 0 Axes>"
      ]
     },
     "metadata": {},
     "output_type": "display_data"
    }
   ],
   "source": [
    "#Salvar em JPG\n",
    "plt.savefig(\"sorvete_mais_vendido_mar2019.png\")"
   ]
  },
  {
   "cell_type": "code",
   "execution_count": null,
   "id": "5933dafb",
   "metadata": {},
   "outputs": [],
   "source": [
    "# | Análise | - É possível alegarmos que no período de Março/2019 a temperatura da cidade estava em perfeito 'clima' para sorvetes de sabores cítricos, como o limão, pois são mais refrescantes. O consumo do sabor de chocolate foi o menor, pois a ingestão de muito açucar ou algo muito doce leva a desidratação. "
   ]
  }
 ],
 "metadata": {
  "kernelspec": {
   "display_name": "Python 3 (ipykernel)",
   "language": "python",
   "name": "python3"
  },
  "language_info": {
   "codemirror_mode": {
    "name": "ipython",
    "version": 3
   },
   "file_extension": ".py",
   "mimetype": "text/x-python",
   "name": "python",
   "nbconvert_exporter": "python",
   "pygments_lexer": "ipython3",
   "version": "3.10.7"
  }
 },
 "nbformat": 4,
 "nbformat_minor": 5
}
